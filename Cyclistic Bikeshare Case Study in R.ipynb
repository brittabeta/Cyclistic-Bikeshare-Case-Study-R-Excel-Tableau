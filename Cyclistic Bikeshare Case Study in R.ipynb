{
  "nbformat": 4,
  "nbformat_minor": 0,
  "metadata": {
    "colab": {
      "provenance": [],
      "authorship_tag": "ABX9TyNprAVnpBhMVwm//f2Mp9mE",
      "include_colab_link": true
    },
    "kernelspec": {
      "name": "python3",
      "display_name": "Python 3"
    },
    "language_info": {
      "name": "python"
    }
  },
  "cells": [
    {
      "cell_type": "markdown",
      "metadata": {
        "id": "view-in-github",
        "colab_type": "text"
      },
      "source": [
        "<a href=\"https://colab.research.google.com/github/brittabeta/Cyclistic-Bikeshare-Case-Study-R-Excel-Tableau/blob/main/Cyclistic%20Bikeshare%20Case%20Study%20in%20R.ipynb\" target=\"_parent\"><img src=\"https://colab.research.google.com/assets/colab-badge.svg\" alt=\"Open In Colab\"/></a>"
      ]
    },
    {
      "cell_type": "markdown",
      "source": [
        "# **Cyclistic Bikeshare Case Study**\n",
        "\n",
        "## **By: Britta Smith**\n",
        "\n",
        "Tools: R, Tableau, Excel\n",
        "\n",
        "In Association with: Google Data Analytics Certification"
      ],
      "metadata": {
        "id": "04pEXEuy_K3N"
      }
    },
    {
      "cell_type": "code",
      "execution_count": 1,
      "metadata": {
        "id": "Ce5p6GID--ba"
      },
      "outputs": [],
      "source": [
        "# load rmagic to use R in Colab notebook\n",
        "%load_ext rpy2.ipython"
      ]
    },
    {
      "cell_type": "code",
      "source": [
        "# use %%R to execute cell magic"
      ],
      "metadata": {
        "id": "1MDnHrXBAix0"
      },
      "execution_count": null,
      "outputs": []
    }
  ]
}